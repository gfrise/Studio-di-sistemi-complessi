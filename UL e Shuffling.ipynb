{
 "cells": [
  {
   "cell_type": "markdown",
   "id": "1530bda8-86f9-4c52-bf85-044d2ae6bc5d",
   "metadata": {},
   "source": [
    "# OU 2"
   ]
  },
  {
   "cell_type": "code",
   "execution_count": 59,
   "id": "58f8cf2f-139f-4dfa-beda-e7119562c356",
   "metadata": {},
   "outputs": [],
   "source": [
    "import numpy as np\n",
    "import matplotlib.pyplot as plt\n",
    "import random"
   ]
  },
  {
   "cell_type": "code",
   "execution_count": 84,
   "id": "6a1305cb-9b45-4b4a-9f2c-dd83a5662860",
   "metadata": {},
   "outputs": [],
   "source": [
    "N = 10**4\n",
    "step = 100\n",
    "dLag = 1/step\n",
    "lagMax = 50\n",
    "lag = np.arange(0, lagMax, dLag)\n",
    "nn = N*step\n",
    "m=100"
   ]
  },
  {
   "cell_type": "code",
   "execution_count": 85,
   "id": "ad1e46be-cded-45c3-b228-b20d5b409d28",
   "metadata": {},
   "outputs": [],
   "source": [
    "def autocorrelation(x):\n",
    "    m1=0\n",
    "    sd1=0\n",
    "\n",
    "    for j in range(N-lagMax):\n",
    "        m1 = m1 + x[j]\n",
    "        sd1 = sd1 + x[j]**2\n",
    "\n",
    "    m1 = m1 / (N-lagMax)\n",
    "    sd1 = (sd1/(N-lagMax))-m1**2\n",
    "    sd1 = sd1**0.5\n",
    "    \n",
    "    m2=0\n",
    "    sd2=0\n",
    "    corr=0\n",
    "    for j in range(N-lagMax):\n",
    "        m2 = m2+x[j+t]\n",
    "        sd2 = sd2 + x[j+t]**2\n",
    "        corr = corr + x[j]*x[j+t]\n",
    "\n",
    "    m2 /= (N-lagMax)\n",
    "    sd2 = (sd2/(N-lagMax))-m2**2\n",
    "    sd2 = sd2**0.5\n",
    "    corr /= (N-lagMax)\n",
    "    #print(corr)\n",
    "    return (corr-m1*m2)/(sd1*sd2)"
   ]
  },
  {
   "cell_type": "code",
   "execution_count": null,
   "id": "283836fb-21ed-4c5f-9c00-238c5897bc8e",
   "metadata": {},
   "outputs": [],
   "source": [
    "#Ornstein e Ulembeck ha h(x) = -gamma*x e g(x)=c, poniamo c=1\n",
    "gamma1 = 0.1\n",
    "gamma2 = 0.2\n",
    "med = np.zeros(lagMax)\n",
    "sd = np.zeros(lagMax)\n",
    "med_shuffled = np.zeros(lagMax)\n",
    "sd_shuffled = np.zeros(lagMax)\n",
    "\n",
    "for k in range(m):\n",
    "    x = np.zeros(nn)\n",
    "    x[0] = 0.1\n",
    "    noise = np.random.normal(0, np.sqrt(2), nn)\n",
    "    for i in range (1,nn):\n",
    "        x[i] = x[i-1] - gamma1*x[i-1]*dLag + np.sqrt(dLag)*noise[i]\n",
    "    \n",
    "    x_series = [x[t] for t in range(1, nn, step)]\n",
    "\n",
    "    for t in range(lagMax):\n",
    "        ac = autocorrelation(x_series)\n",
    "        med[t] += ac\n",
    "        sd[t] += ac**2\n",
    "\n",
    "    #Shuffling\n",
    "    x_shuffled = x_series\n",
    "    for i in range (1,N):\n",
    "        pos = random.randrange(N)\n",
    "        temp = x_shuffled[i]\n",
    "        x_shuffled[i] = x_shuffled[pos]\n",
    "        x_shuffled[pos] = temp\n",
    "\n",
    "    for t in range(lagMax):\n",
    "        ac_shuffled = autocorrelation(x_series)\n",
    "        med_shuffled[t] += ac_shuffled\n",
    "        sd_shuffled[t] += ac_shuffled**2\n",
    "\n",
    "\n",
    "for t in range(lagMax):\n",
    "    med[t] /= m\n",
    "    sd[t] = sd[t]/m - med[t]**2\n",
    "    med_shuffled[t] /= m\n",
    "    sd_shuffled[t] = sd_shuffled[t]/m - med_shuffled[t]**2\n",
    "    print(f'{t}: {med[t]}\\t{np.sqrt(sd[t])}\\t{med_shuffled[t]}\\t{np.sqrt(sd_shuffled[t])}')\n",
    "    print(f'{t}: {med[t]}\\t{np.sqrt(sd[t])}\\t{med_shuffled[t]}\\t{np.sqrt(sd_shuffled[t])}')"
   ]
  },
  {
   "cell_type": "code",
   "execution_count": null,
   "id": "45fc1443-034d-48e5-b8dc-25a592fa0991",
   "metadata": {},
   "outputs": [],
   "source": [
    "x = np.linspace(0,lagMax,50)\n",
    "plt.errorbar(x, med, yerr=sd, c='black', fmt='.', capsize=5)\n",
    "plt.errorbar(x, med_shuffled, yerr=sd, c='red', fmt='.', capsize=5)\n",
    "plt.yscale('log')"
   ]
  },
  {
   "cell_type": "code",
   "execution_count": null,
   "id": "f00a369f-5ee3-446a-a3a6-fdf1c38401bd",
   "metadata": {},
   "outputs": [],
   "source": [
    "x = np.linspace(0,lagMax,50)\n",
    "plt.errorbar(x, med, yerr=sd, c='black', fmt='.', capsize=5)\n",
    "plt.errorbar(x, med_shuffled, yerr=sd, c='red', fmt='.', capsize=5)"
   ]
  },
  {
   "cell_type": "code",
   "execution_count": null,
   "id": "29950492-181a-453b-89e9-ecea6f5c0430",
   "metadata": {},
   "outputs": [],
   "source": []
  }
 ],
 "metadata": {
  "kernelspec": {
   "display_name": "Python 3 (ipykernel)",
   "language": "python",
   "name": "python3"
  },
  "language_info": {
   "codemirror_mode": {
    "name": "ipython",
    "version": 3
   },
   "file_extension": ".py",
   "mimetype": "text/x-python",
   "name": "python",
   "nbconvert_exporter": "python",
   "pygments_lexer": "ipython3",
   "version": "3.13.2"
  }
 },
 "nbformat": 4,
 "nbformat_minor": 5
}
